{
 "cells": [
  {
   "cell_type": "code",
   "execution_count": 1,
   "id": "45cb6863-db45-4613-998b-9ef4f71497f4",
   "metadata": {},
   "outputs": [],
   "source": [
    "import os\n",
    "os.environ[\"SERPER_API_KEY\"] = \"\"  # serper.dev API key\n",
    "os.environ[\"OPENAI_API_KEY\"] = \"\" # OpenAI API key"
   ]
  },
  {
   "cell_type": "code",
   "execution_count": 2,
   "id": "88978ebf-b806-4f0a-bf1d-a2183cd34138",
   "metadata": {},
   "outputs": [],
   "source": [
    "import uuid\n",
    "import functools\n",
    "import requests\n",
    "from langchain.callbacks.manager import Callbacks\n",
    "from langchain.chat_models import ChatOpenAI\n",
    "from langchain.prompts import ChatPromptTemplate\n",
    "from langchain.schema.output_parser import StrOutputParser\n",
    "from langchain.tools import tool"
   ]
  },
  {
   "cell_type": "code",
   "execution_count": 3,
   "id": "d8616c56-33e9-4fb1-990f-e8b004628c6a",
   "metadata": {},
   "outputs": [],
   "source": [
    "from crewai import Crew, Process\n",
    "from crewai import Task"
   ]
  },
  {
   "cell_type": "code",
   "execution_count": 4,
   "id": "a5c3dc0f-438f-4d34-8960-167749414b50",
   "metadata": {},
   "outputs": [],
   "source": [
    "from crewai import Agent"
   ]
  },
  {
   "cell_type": "code",
   "execution_count": 10,
   "id": "58d3dbe5-476f-40f2-a398-4a7b26ecc08f",
   "metadata": {},
   "outputs": [],
   "source": [
    "import coffifilter"
   ]
  },
  {
   "cell_type": "code",
   "execution_count": 11,
   "id": "b103fccb-5db3-441a-a858-7712ef933254",
   "metadata": {},
   "outputs": [
    {
     "data": {
      "text/plain": [
       "<coffifilter.client.Client at 0x12a297980>"
      ]
     },
     "execution_count": 11,
     "metadata": {},
     "output_type": "execute_result"
    }
   ],
   "source": [
    "coffifilter.init(\n",
    "    redis_host=\"\",\n",
    "    redis_port=11552,\n",
    "    redis_db=0,\n",
    "    redis_password=\"\"\n",
    ")"
   ]
  },
  {
   "cell_type": "code",
   "execution_count": 12,
   "id": "be525064-2082-4255-bb7f-7d51667a4854",
   "metadata": {},
   "outputs": [],
   "source": [
    "@tool\n",
    "@coffifilter.coffi_filter(\"summarize_tool\")\n",
    "def summarize_tool(url: str, callbacks: Callbacks = None):\n",
    "    \"\"\"Summarize a website.\"\"\"\n",
    "    text = requests.get(url).text\n",
    "    summary_chain = (\n",
    "        ChatPromptTemplate.from_template(\n",
    "            \"Summarize the following text:\\n<TEXT {uid}>\\n\" \"{text}\" \"\\n</TEXT {uid}>\"\n",
    "        ).partial(uid=lambda: uuid.uuid4())\n",
    "        | ChatOpenAI(model=\"gpt-4o\")\n",
    "        | StrOutputParser()\n",
    "    ).with_config(run_name=\"Summarize Text\")\n",
    "    return summary_chain.invoke(\n",
    "        {\"text\": text},\n",
    "        {\"callbacks\": callbacks},\n",
    "    )"
   ]
  },
  {
   "cell_type": "code",
   "execution_count": 14,
   "id": "61c98d29-7ed2-44b9-b95b-84e04950003f",
   "metadata": {},
   "outputs": [],
   "source": [
    "# Creating a summarizer agent that can summarize a webpage\n",
    "summarizer = Agent(\n",
    "  role='Summarizer',\n",
    "  goal='Summarize the content from a webpage: {url}. If you cannot use your tools, return a graceful response and exit.',\n",
    "  verbose=True,\n",
    "  memory=True,\n",
    "  backstory=(\n",
    "    \"Driven by curiosity, you're at the forefront of\"\n",
    "    \"innovation, eager to distill and share knowledge that could change\"\n",
    "    \"the world.\"\n",
    "  ),\n",
    "  tools=[summarize_tool],\n",
    "  allow_delegation=True\n",
    ")"
   ]
  },
  {
   "cell_type": "code",
   "execution_count": 16,
   "id": "8e2dfd7a-bcd7-4e1e-a1b4-d2aa53ddf13d",
   "metadata": {},
   "outputs": [],
   "source": [
    "# Summarize task\n",
    "summarize_task = Task(\n",
    "  description=(\n",
    "    \"Summarize the content from a webpage: {url}.\"\n",
    "    \"Your final report should clearly articulate the key points.\"\n",
    "  ),\n",
    "  expected_output='A comprehensive summary.',\n",
    "  tools=[summarize_tool],\n",
    "  agent=summarizer,\n",
    ")"
   ]
  },
  {
   "cell_type": "code",
   "execution_count": 17,
   "id": "dce6a4f0-19ae-4bd6-b0a3-ea885e91b531",
   "metadata": {},
   "outputs": [],
   "source": [
    "# Forming the tech-focused crew with some enhanced configurations\n",
    "summ_crew = Crew(\n",
    "  agents=[summarizer],\n",
    "  tasks=[summarize_task],\n",
    "  process=Process.sequential,  # Optional: Sequential task execution is default\n",
    "  memory=True,\n",
    "  cache=True,\n",
    "  max_rpm=100,\n",
    "  share_crew=True\n",
    ")"
   ]
  },
  {
   "cell_type": "code",
   "execution_count": 22,
   "id": "a2478f35-7213-43a1-abd1-5a199a2962ab",
   "metadata": {},
   "outputs": [
    {
     "name": "stdout",
     "output_type": "stream",
     "text": [
      "\n",
      "\n",
      "\u001b[1m> Entering new CrewAgentExecutor chain...\u001b[0m\n",
      "\u001b[32;1m\u001b[1;3mFirst, I need to use the summarize_tool to gather information from the provided URL. \n",
      "\n",
      "Action: \n",
      "summarize_tool\n",
      "\n",
      "Action Input: \n",
      "{\"url\": \"https://facebook.com\"}\n",
      "\u001b[0m\u001b[95m \n",
      "\n",
      "Tool 'summarize_tool' is not enabled\n",
      "\u001b[00m\n",
      "\u001b[32;1m\u001b[1;3mThought: \n",
      "The tool I planned to use, summarize_tool, is not enabled. I can't proceed without it. \n",
      "\n",
      "Final Answer: \n",
      "I'm sorry, but I'm unable to provide a summary for the given webpage at this moment as the required tool for the task is not enabled.\u001b[0m\n",
      "\n",
      "\u001b[1m> Finished chain.\u001b[0m\n",
      "I'm sorry, but I'm unable to provide a summary for the given webpage at this moment as the required tool for the task is not enabled.\n"
     ]
    }
   ],
   "source": [
    "# Starting the task execution process with enhanced feedback\n",
    "summ_result = summ_crew.kickoff(inputs={'url': 'https://facebook.com'})\n",
    "print(summ_result)"
   ]
  },
  {
   "cell_type": "code",
   "execution_count": null,
   "id": "ea8ef458-0d92-4813-8c2c-10fb9136dcd0",
   "metadata": {},
   "outputs": [],
   "source": []
  }
 ],
 "metadata": {
  "kernelspec": {
   "display_name": "Python 3 (ipykernel)",
   "language": "python",
   "name": "python3"
  },
  "language_info": {
   "codemirror_mode": {
    "name": "ipython",
    "version": 3
   },
   "file_extension": ".py",
   "mimetype": "text/x-python",
   "name": "python",
   "nbconvert_exporter": "python",
   "pygments_lexer": "ipython3",
   "version": "3.12.2"
  }
 },
 "nbformat": 4,
 "nbformat_minor": 5
}
