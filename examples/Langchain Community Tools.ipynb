{
 "cells": [
  {
   "cell_type": "code",
   "execution_count": 1,
   "id": "1bfa2b0c-e807-44ca-af02-ef5850dce759",
   "metadata": {},
   "outputs": [],
   "source": [
    "from langchain import hub\n",
    "from langchain.agents import AgentExecutor, create_openai_tools_agent\n",
    "from langchain_community.tools.tavily_search import TavilySearchResults\n",
    "from langchain_community.tools import YouTubeSearchTool\n",
    "from langchain_openai import ChatOpenAI"
   ]
  },
  {
   "cell_type": "code",
   "execution_count": 2,
   "id": "1f910945-5aaf-4e53-8ff3-3c59e668aeb5",
   "metadata": {},
   "outputs": [],
   "source": [
    "import coffifilter"
   ]
  },
  {
   "cell_type": "code",
   "execution_count": 3,
   "id": "d4087976-3d38-4987-8bb8-32c07bf95468",
   "metadata": {},
   "outputs": [
    {
     "data": {
      "text/plain": [
       "<coffifilter.client.Client at 0x1119fae70>"
      ]
     },
     "execution_count": 3,
     "metadata": {},
     "output_type": "execute_result"
    }
   ],
   "source": [
    "coffifilter.init(\n",
    "    redis_host=\"\",\n",
    "    redis_port=11552,\n",
    "    redis_db=0,\n",
    "    redis_password=\"\"\n",
    ")"
   ]
  },
  {
   "cell_type": "code",
   "execution_count": 1,
   "id": "c82d093e-87f3-4e1f-be5c-5c70b34145b0",
   "metadata": {},
   "outputs": [
    {
     "name": "stdout",
     "output_type": "stream",
     "text": [
      "env: TAVILY_API_KEY=<>\n",
      "env: OPENAI_API_KEY=<>\n"
     ]
    }
   ],
   "source": [
    "%env TAVILY_API_KEY=<>\n",
    "%env OPENAI_API_KEY=<>"
   ]
  },
  {
   "cell_type": "code",
   "execution_count": 5,
   "id": "7e418dab-4a1f-43ef-8816-1a2ca9e012f5",
   "metadata": {},
   "outputs": [],
   "source": [
    "tavily_tool = TavilySearchResults()"
   ]
  },
  {
   "cell_type": "code",
   "execution_count": 6,
   "id": "689ade32-dd03-419b-a133-eea865ef85aa",
   "metadata": {},
   "outputs": [],
   "source": [
    "search_tool = coffifilter.wrap_langchain_tool(tavily_tool)"
   ]
  },
  {
   "cell_type": "code",
   "execution_count": 8,
   "id": "e81b1df8-ad42-4f33-ac55-f4b0274f77a9",
   "metadata": {},
   "outputs": [],
   "source": [
    "youtube_tool = coffifilter.wrap_langchain_tool(YouTubeSearchTool())"
   ]
  },
  {
   "cell_type": "code",
   "execution_count": 9,
   "id": "587a0b1c-e118-4ce3-ae5e-36b2455e0ad0",
   "metadata": {},
   "outputs": [],
   "source": [
    "# Get the prompt to use - you can modify this!\n",
    "prompt = hub.pull(\"hwchase17/openai-tools-agent\")"
   ]
  },
  {
   "cell_type": "code",
   "execution_count": 10,
   "id": "842965d4-cde2-44be-a3b7-07cc3c4c48d9",
   "metadata": {},
   "outputs": [],
   "source": [
    "tools = [search_tool, youtube_tool]"
   ]
  },
  {
   "cell_type": "code",
   "execution_count": 11,
   "id": "75072f0a-0f1a-45a2-9f9a-640b87a1591e",
   "metadata": {},
   "outputs": [],
   "source": [
    "# Choose the LLM that will drive the agent\n",
    "# Only certain models support this\n",
    "llm = ChatOpenAI(model=\"gpt-3.5-turbo-1106\", temperature=0)\n",
    "\n",
    "# Construct the OpenAI Tools agent\n",
    "agent = create_openai_tools_agent(llm, tools, prompt)"
   ]
  },
  {
   "cell_type": "code",
   "execution_count": 12,
   "id": "144e6e14-1b64-4846-8ddc-dc1f3f426d79",
   "metadata": {},
   "outputs": [],
   "source": [
    "# Create an agent executor by passing in the agent and tools\n",
    "agent_executor = AgentExecutor(agent=agent, tools=tools, verbose=True)"
   ]
  },
  {
   "cell_type": "code",
   "execution_count": 16,
   "id": "412e93b3-1ea6-476c-93b3-1a8bd0517713",
   "metadata": {},
   "outputs": [
    {
     "name": "stdout",
     "output_type": "stream",
     "text": [
      "\n",
      "\n",
      "\u001b[1m> Entering new AgentExecutor chain...\u001b[0m\n",
      "\u001b[32;1m\u001b[1;3m\n",
      "Invoking: `youtube_search` with `langchain`\n",
      "\n",
      "\n",
      "\u001b[0m\u001b[33;1m\u001b[1;3mTool 'youtube_search' is not enabled\u001b[0m\u001b[32;1m\u001b[1;3m\n",
      "Invoking: `tavily_search_results_json` with `{'query': 'Langchain'}`\n",
      "responded: I will search for videos on Langchain using a different method.\n",
      "\n",
      "\u001b[0m\u001b[36;1m\u001b[1;3mTool 'tavily_search_results_json' is not enabled\u001b[0m\u001b[32;1m\u001b[1;3mI apologize, but I am unable to search for videos on Langchain at the moment. If there's anything else I can assist you with, please feel free to ask.\u001b[0m\n",
      "\n",
      "\u001b[1m> Finished chain.\u001b[0m\n"
     ]
    },
    {
     "data": {
      "text/plain": [
       "{'input': 'can you find videos on langchain',\n",
       " 'output': \"I apologize, but I am unable to search for videos on Langchain at the moment. If there's anything else I can assist you with, please feel free to ask.\"}"
      ]
     },
     "execution_count": 16,
     "metadata": {},
     "output_type": "execute_result"
    }
   ],
   "source": [
    "agent_executor.invoke({\"input\": \"can you find videos on langchain\"})"
   ]
  },
  {
   "cell_type": "code",
   "execution_count": null,
   "id": "712ded5a-b7e0-4fb6-8a08-e42f236057a6",
   "metadata": {},
   "outputs": [],
   "source": []
  }
 ],
 "metadata": {
  "kernelspec": {
   "display_name": "Python 3 (ipykernel)",
   "language": "python",
   "name": "python3"
  },
  "language_info": {
   "codemirror_mode": {
    "name": "ipython",
    "version": 3
   },
   "file_extension": ".py",
   "mimetype": "text/x-python",
   "name": "python",
   "nbconvert_exporter": "python",
   "pygments_lexer": "ipython3",
   "version": "3.8.5"
  }
 },
 "nbformat": 4,
 "nbformat_minor": 5
}
