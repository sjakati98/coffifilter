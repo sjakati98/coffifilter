{
 "cells": [
  {
   "cell_type": "code",
   "execution_count": 1,
   "id": "30c32d3f-a209-4ac2-92cf-1d1ed37d08ee",
   "metadata": {},
   "outputs": [],
   "source": [
    "# Import things that are needed generically\n",
    "from langchain.pydantic_v1 import BaseModel, Field\n",
    "from langchain.tools import BaseTool"
   ]
  },
  {
   "cell_type": "code",
   "execution_count": 2,
   "id": "4aec3598-682f-4e4f-babc-c1397ee435fd",
   "metadata": {},
   "outputs": [],
   "source": [
    "from typing import Optional, Type\n",
    "from langchain import hub\n",
    "from langchain.agents import AgentExecutor, create_openai_tools_agent\n",
    "from langchain_openai import ChatOpenAI\n",
    "\n",
    "from langchain.callbacks.manager import (\n",
    "    AsyncCallbackManagerForToolRun,\n",
    "    CallbackManagerForToolRun,\n",
    ")"
   ]
  },
  {
   "cell_type": "code",
   "execution_count": 1,
   "id": "e78dd47c-bbe9-49a8-b4d0-339beb173130",
   "metadata": {},
   "outputs": [
    {
     "name": "stdout",
     "output_type": "stream",
     "text": [
      "env: OPENAI_API_KEY=<>\n"
     ]
    }
   ],
   "source": [
    "%env OPENAI_API_KEY=<>"
   ]
  },
  {
   "cell_type": "code",
   "execution_count": 4,
   "id": "920b6340-97a5-4e79-b7f1-d60ce4d2625a",
   "metadata": {},
   "outputs": [],
   "source": [
    "import coffifilter"
   ]
  },
  {
   "cell_type": "code",
   "execution_count": 14,
   "id": "05f338f0-b383-49df-ac9f-684dcc034a44",
   "metadata": {},
   "outputs": [
    {
     "data": {
      "text/plain": [
       "<coffifilter.client.Client at 0x1145fbf80>"
      ]
     },
     "execution_count": 14,
     "metadata": {},
     "output_type": "execute_result"
    }
   ],
   "source": [
    "coffifilter.init(\n",
    "    redis_host=\"\",\n",
    "    redis_port=11552,\n",
    "    redis_db=0,\n",
    "    redis_password=\"\"\n",
    ")"
   ]
  },
  {
   "cell_type": "code",
   "execution_count": 15,
   "id": "447d4288-013e-4f59-9b43-203c4b7cc40a",
   "metadata": {},
   "outputs": [],
   "source": [
    "class CalculatorInput(BaseModel):\n",
    "    a: int = Field(description=\"first number\")\n",
    "    b: int = Field(description=\"second number\")"
   ]
  },
  {
   "cell_type": "code",
   "execution_count": 16,
   "id": "238b8c73-21e2-4561-a8df-f957672f2423",
   "metadata": {},
   "outputs": [],
   "source": [
    "class CustomCalculatorTool(BaseTool):\n",
    "    name = \"Calculator\"\n",
    "    description = \"useful for when you need to answer questions about math\"\n",
    "    args_schema: Type[BaseModel] = CalculatorInput\n",
    "    return_direct: bool = False\n",
    "\n",
    "    def _run(\n",
    "        self, a: int, b: int, run_manager: Optional[CallbackManagerForToolRun] = None\n",
    "    ) -> str:\n",
    "        \"\"\"Use the tool.\"\"\"\n",
    "        return a * b\n",
    "\n",
    "    async def _arun(\n",
    "        self,\n",
    "        a: int,\n",
    "        b: int,\n",
    "        run_manager: Optional[AsyncCallbackManagerForToolRun] = None,\n",
    "    ) -> str:\n",
    "        \"\"\"Use the tool asynchronously.\"\"\"\n",
    "        raise NotImplementedError(\"Calculator does not support async\")"
   ]
  },
  {
   "cell_type": "code",
   "execution_count": 17,
   "id": "0de9de75-5163-4e65-a186-1b67c3d067a1",
   "metadata": {},
   "outputs": [],
   "source": [
    "calculator_tool = coffifilter.wrap_langchain_tool(CustomCalculatorTool())"
   ]
  },
  {
   "cell_type": "code",
   "execution_count": 18,
   "id": "3f04ee0e-85b5-48e4-b2ed-ab6eb450eed2",
   "metadata": {},
   "outputs": [],
   "source": [
    "# Get the prompt to use - you can modify this!\n",
    "prompt = hub.pull(\"hwchase17/openai-tools-agent\")"
   ]
  },
  {
   "cell_type": "code",
   "execution_count": 19,
   "id": "af110add-7c62-4bd3-b4f7-1e206d8679e2",
   "metadata": {},
   "outputs": [],
   "source": [
    "tools = [calculator_tool]"
   ]
  },
  {
   "cell_type": "code",
   "execution_count": 20,
   "id": "8d9afddd-73b2-4b9d-b032-a808ceeeef9e",
   "metadata": {},
   "outputs": [],
   "source": [
    "# Choose the LLM that will drive the agent\n",
    "# Only certain models support this\n",
    "llm = ChatOpenAI(model=\"gpt-3.5-turbo-1106\", temperature=0)\n",
    "\n",
    "# Construct the OpenAI Tools agent\n",
    "agent = create_openai_tools_agent(llm, tools, prompt)"
   ]
  },
  {
   "cell_type": "code",
   "execution_count": 21,
   "id": "9cd177bb-20e4-44a7-9886-34e4fbe1c868",
   "metadata": {},
   "outputs": [],
   "source": [
    "# Create an agent executor by passing in the agent and tools\n",
    "agent_executor = AgentExecutor(agent=agent, tools=tools, verbose=True)"
   ]
  },
  {
   "cell_type": "code",
   "execution_count": 22,
   "id": "f1c83941-0ae0-4e2b-809c-56c8067f0b45",
   "metadata": {},
   "outputs": [
    {
     "name": "stdout",
     "output_type": "stream",
     "text": [
      "\n",
      "\n",
      "\u001b[1m> Entering new AgentExecutor chain...\u001b[0m\n",
      "\u001b[32;1m\u001b[1;3m\n",
      "Invoking: `Calculator` with `{'a': 7, 'b': 49}`\n",
      "\n",
      "\n",
      "\u001b[0m\u001b[36;1m\u001b[1;3m343\u001b[0m\u001b[32;1m\u001b[1;3mSeven times 49 is equal to 343.\u001b[0m\n",
      "\n",
      "\u001b[1m> Finished chain.\u001b[0m\n"
     ]
    },
    {
     "data": {
      "text/plain": [
       "{'input': 'what is seven times 49',\n",
       " 'output': 'Seven times 49 is equal to 343.'}"
      ]
     },
     "execution_count": 22,
     "metadata": {},
     "output_type": "execute_result"
    }
   ],
   "source": [
    "agent_executor.invoke({\"input\": \"what is seven times 49\"})"
   ]
  },
  {
   "cell_type": "code",
   "execution_count": null,
   "id": "d5035e4b-4dc2-4920-8478-b23f7cc94f05",
   "metadata": {},
   "outputs": [],
   "source": []
  }
 ],
 "metadata": {
  "kernelspec": {
   "display_name": "Python 3 (ipykernel)",
   "language": "python",
   "name": "python3"
  },
  "language_info": {
   "codemirror_mode": {
    "name": "ipython",
    "version": 3
   },
   "file_extension": ".py",
   "mimetype": "text/x-python",
   "name": "python",
   "nbconvert_exporter": "python",
   "pygments_lexer": "ipython3",
   "version": "3.8.5"
  }
 },
 "nbformat": 4,
 "nbformat_minor": 5
}
